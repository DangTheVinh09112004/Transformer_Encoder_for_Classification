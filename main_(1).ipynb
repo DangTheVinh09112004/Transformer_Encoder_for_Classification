{
  "cells": [
    {
      "cell_type": "code",
      "execution_count": 1,
      "metadata": {
        "id": "IKjSXjJF8I9l"
      },
      "outputs": [
        {
          "name": "stderr",
          "output_type": "stream",
          "text": [
            "2025-02-26 13:41:12.854048: E external/local_xla/xla/stream_executor/cuda/cuda_fft.cc:485] Unable to register cuFFT factory: Attempting to register factory for plugin cuFFT when one has already been registered\n",
            "2025-02-26 13:41:12.923174: E external/local_xla/xla/stream_executor/cuda/cuda_dnn.cc:8454] Unable to register cuDNN factory: Attempting to register factory for plugin cuDNN when one has already been registered\n",
            "2025-02-26 13:41:12.941902: E external/local_xla/xla/stream_executor/cuda/cuda_blas.cc:1452] Unable to register cuBLAS factory: Attempting to register factory for plugin cuBLAS when one has already been registered\n",
            "2025-02-26 13:41:13.042201: I tensorflow/core/platform/cpu_feature_guard.cc:210] This TensorFlow binary is optimized to use available CPU instructions in performance-critical operations.\n",
            "To enable the following instructions: AVX2 FMA, in other operations, rebuild TensorFlow with the appropriate compiler flags.\n",
            "2025-02-26 13:41:14.470920: W tensorflow/compiler/tf2tensorrt/utils/py_utils.cc:38] TF-TRT Warning: Could not find TensorRT\n"
          ]
        }
      ],
      "source": [
        "import tensorflow as tf\n",
        "from tensorflow.keras.layers import Dense, Embedding, GlobalAveragePooling1D\n",
        "from tensorflow.keras.losses import BinaryCrossentropy\n",
        "from tensorflow.keras.metrics import BinaryAccuracy\n",
        "from tensorflow.keras.optimizers import Adam\n",
        "from tensorflow.keras.preprocessing.sequence import pad_sequences\n",
        "from tensorflow.keras.datasets import imdb\n",
        "import numpy as np\n",
        "import matplotlib.pyplot as plt\n",
        "from sklearn.model_selection import train_test_split"
      ]
    },
    {
      "cell_type": "code",
      "execution_count": 2,
      "metadata": {
        "colab": {
          "base_uri": "https://localhost:8080/"
        },
        "id": "4NaN8aR68I9n",
        "outputId": "66a34596-cce8-489b-9506-d267e44ad458"
      },
      "outputs": [
        {
          "name": "stdout",
          "output_type": "stream",
          "text": [
            "[LogicalDevice(name='/device:GPU:0', device_type='GPU')]\n"
          ]
        },
        {
          "name": "stderr",
          "output_type": "stream",
          "text": [
            "WARNING: All log messages before absl::InitializeLog() is called are written to STDERR\n",
            "I0000 00:00:1740552077.016763    5401 cuda_executor.cc:1015] successful NUMA node read from SysFS had negative value (-1), but there must be at least one NUMA node, so returning NUMA node zero. See more at https://github.com/torvalds/linux/blob/v6.0/Documentation/ABI/testing/sysfs-bus-pci#L344-L355\n",
            "I0000 00:00:1740552077.176394    5401 cuda_executor.cc:1015] successful NUMA node read from SysFS had negative value (-1), but there must be at least one NUMA node, so returning NUMA node zero. See more at https://github.com/torvalds/linux/blob/v6.0/Documentation/ABI/testing/sysfs-bus-pci#L344-L355\n",
            "I0000 00:00:1740552077.176732    5401 cuda_executor.cc:1015] successful NUMA node read from SysFS had negative value (-1), but there must be at least one NUMA node, so returning NUMA node zero. See more at https://github.com/torvalds/linux/blob/v6.0/Documentation/ABI/testing/sysfs-bus-pci#L344-L355\n",
            "I0000 00:00:1740552077.178989    5401 cuda_executor.cc:1015] successful NUMA node read from SysFS had negative value (-1), but there must be at least one NUMA node, so returning NUMA node zero. See more at https://github.com/torvalds/linux/blob/v6.0/Documentation/ABI/testing/sysfs-bus-pci#L344-L355\n",
            "I0000 00:00:1740552077.179248    5401 cuda_executor.cc:1015] successful NUMA node read from SysFS had negative value (-1), but there must be at least one NUMA node, so returning NUMA node zero. See more at https://github.com/torvalds/linux/blob/v6.0/Documentation/ABI/testing/sysfs-bus-pci#L344-L355\n",
            "I0000 00:00:1740552077.179384    5401 cuda_executor.cc:1015] successful NUMA node read from SysFS had negative value (-1), but there must be at least one NUMA node, so returning NUMA node zero. See more at https://github.com/torvalds/linux/blob/v6.0/Documentation/ABI/testing/sysfs-bus-pci#L344-L355\n",
            "I0000 00:00:1740552077.250277    5401 cuda_executor.cc:1015] successful NUMA node read from SysFS had negative value (-1), but there must be at least one NUMA node, so returning NUMA node zero. See more at https://github.com/torvalds/linux/blob/v6.0/Documentation/ABI/testing/sysfs-bus-pci#L344-L355\n",
            "I0000 00:00:1740552077.250469    5401 cuda_executor.cc:1015] successful NUMA node read from SysFS had negative value (-1), but there must be at least one NUMA node, so returning NUMA node zero. See more at https://github.com/torvalds/linux/blob/v6.0/Documentation/ABI/testing/sysfs-bus-pci#L344-L355\n",
            "I0000 00:00:1740552077.250616    5401 cuda_executor.cc:1015] successful NUMA node read from SysFS had negative value (-1), but there must be at least one NUMA node, so returning NUMA node zero. See more at https://github.com/torvalds/linux/blob/v6.0/Documentation/ABI/testing/sysfs-bus-pci#L344-L355\n",
            "2025-02-26 13:41:17.250969: I tensorflow/core/common_runtime/gpu/gpu_device.cc:2021] Created device /job:localhost/replica:0/task:0/device:GPU:0 with 4664 MB memory:  -> device: 0, name: Quadro RTX 3000, pci bus id: 0000:01:00.0, compute capability: 7.5\n"
          ]
        }
      ],
      "source": [
        "print(tf.config.list_logical_devices('GPU'))"
      ]
    },
    {
      "cell_type": "code",
      "execution_count": 3,
      "metadata": {
        "id": "Y8mvpxyY8I9o"
      },
      "outputs": [],
      "source": [
        "vocab_size = 10000\n",
        "max_len = 200\n",
        "embedding_dim = 64\n",
        "num_heads = 2\n",
        "d_model = 128\n",
        "dff = 512\n",
        "num_encoder_layer = 2\n",
        "batch_size = 32\n",
        "num_epochs = 10\n",
        "(x_train, y_train), (x_test, y_test) = imdb.load_data(num_words=vocab_size, seed=123)\n",
        "x_train = pad_sequences(x_train, maxlen=max_len)\n",
        "x_test = pad_sequences(x_test, maxlen=max_len)\n",
        "x_train, x_val, y_train, y_val = train_test_split(x_train, y_train, test_size=0.2, random_state=42)"
      ]
    },
    {
      "cell_type": "code",
      "execution_count": 4,
      "metadata": {
        "colab": {
          "base_uri": "https://localhost:8080/"
        },
        "id": "JkbnypjNRerF",
        "outputId": "d81bc121-a368-41a4-f265-c8c70659826b"
      },
      "outputs": [
        {
          "name": "stdout",
          "output_type": "stream",
          "text": [
            "(20000, 200) (20000,)\n"
          ]
        }
      ],
      "source": [
        "print(x_train.shape, y_train.shape)"
      ]
    },
    {
      "cell_type": "code",
      "execution_count": 5,
      "metadata": {
        "colab": {
          "base_uri": "https://localhost:8080/",
          "height": 507
        },
        "id": "9pC5Db49S_U-",
        "outputId": "a5a6035a-ec10-4a2f-d76f-7841f76f0f59"
      },
      "outputs": [
        {
          "data": {
            "image/png": "[encoded data removed]",
            "text/plain": [
              "<Figure size 1500x500 with 3 Axes>"
            ]
          },
          "metadata": {},
          "output_type": "display_data"
        }
      ],
      "source": [
        "train_label_counts = np.bincount(y_train)\n",
        "test_label_counts = np.bincount(y_test)\n",
        "val_label_counts = np.bincount(y_val)\n",
        "def plot_multiple_label_distributions(label_counts_list, titles, colors_list):\n",
        "    num_plots = len(label_counts_list)\n",
        "    fig, axes = plt.subplots(1, num_plots, figsize=(15, 5), sharey=True)\n",
        "    labels = ['Negative (0)', 'Positive (1)']\n",
        "    for i, (label_counts, title, colors) in enumerate(zip(label_counts_list, titles, colors_list)):\n",
        "        axes[i].bar(labels, label_counts, color=colors)\n",
        "        axes[i].set_title(title, fontsize=14)\n",
        "        axes[i].set_xlabel('Labels', fontsize=12)\n",
        "        axes[i].grid(axis='y', linestyle='--', alpha=0.7)\n",
        "        for j, count in enumerate(label_counts):\n",
        "            axes[i].text(j, count + 100, str(count), ha='center', fontsize=10)\n",
        "    axes[0].set_ylabel('Number of Reviews', fontsize=12)\n",
        "    plt.tight_layout()\n",
        "    plt.show()\n",
        "plot_multiple_label_distributions(\n",
        "    label_counts_list=[train_label_counts, test_label_counts, val_label_counts],\n",
        "    titles=[\n",
        "        \"Distribution of Labels in Training Set\",\n",
        "        \"Distribution of Labels in Testing Set\",\n",
        "        \"Distribution of Labels in Validation Set\"\n",
        "    ],\n",
        "    colors_list=[\n",
        "        ['red', 'green'],\n",
        "        ['blue', 'yellow'],\n",
        "        ['purple', 'cyan']\n",
        "    ]\n",
        ")"
      ]
    },
    {
      "cell_type": "code",
      "execution_count": 6,
      "metadata": {
        "colab": {
          "base_uri": "https://localhost:8080/"
        },
        "id": "KBvmbmSg8I9q",
        "outputId": "dfe14b72-839c-45f5-d123-b9a12c180942"
      },
      "outputs": [
        {
          "name": "stdout",
          "output_type": "stream",
          "text": [
            "(25000, 200) (25000,)\n"
          ]
        }
      ],
      "source": [
        "print(x_test.shape, y_test.shape)"
      ]
    },
    {
      "cell_type": "code",
      "execution_count": 7,
      "metadata": {
        "id": "_SusEYLc8I9r"
      },
      "outputs": [],
      "source": [
        "def scaled_dot_product(q, k, v):\n",
        "    matmul_qk = tf.matmul(q, k, transpose_b=True)\n",
        "    depth = tf.cast(tf.shape(k)[-1], tf.float32)\n",
        "    logits = matmul_qk/tf.math.sqrt(depth)\n",
        "    attention_weights = tf.nn.softmax(logits, axis=-1)\n",
        "    output = tf.matmul(attention_weights, v)\n",
        "    return output"
      ]
    },
    {
      "cell_type": "code",
      "execution_count": 8,
      "metadata": {
        "id": "SeR02LJX8I9r"
      },
      "outputs": [],
      "source": [
        "class MultiHeadAttention(tf.keras.layers.Layer):\n",
        "    def __init__(self, d_model, num_heads):\n",
        "        super(MultiHeadAttention, self).__init__()\n",
        "        self.num_heads = num_heads\n",
        "        self.d_model = d_model\n",
        "        assert d_model%num_heads == 0\n",
        "        self.depth = d_model // self.num_heads\n",
        "        self.wq = tf.keras.layers.Dense(d_model)\n",
        "        self.wk = tf.keras.layers.Dense(d_model)\n",
        "        self.wv = tf.keras.layers.Dense(d_model)\n",
        "        self.dense = tf.keras.layers.Dense(d_model)\n",
        "\n",
        "    def split_head(self, x, batch_size):\n",
        "        x = tf.reshape(x, (batch_size, -1, self.num_heads, self.depth))\n",
        "        return tf.transpose(x, perm=[0, 2, 1, 3])\n",
        "\n",
        "    def call(self, q, k, v):\n",
        "        batch_size = tf.shape(q)[0]\n",
        "        q, k, v = self.wq(q), self.wk(k), self.wv(v)\n",
        "        q, k, v = self.split_head(q, batch_size), self.split_head(k, batch_size),self.split_head(v, batch_size)\n",
        "        scaled_attention = scaled_dot_product(q, k, v)\n",
        "        scaled_attention = tf.transpose(scaled_attention, perm=[0, 2, 1, 3])\n",
        "        concat_attention = tf.reshape(scaled_attention, (batch_size, -1, self.d_model))\n",
        "        output = self.dense(concat_attention)\n",
        "        return output"
      ]
    },
    {
      "cell_type": "code",
      "execution_count": 9,
      "metadata": {
        "id": "P6AKEtMY8I9s"
      },
      "outputs": [],
      "source": [
        "def point_wise_feedforward_network(d_model, dff):\n",
        "    return tf.keras.Sequential([\n",
        "        tf.keras.layers.Dense(dff, activation=\"relu\"),\n",
        "        tf.keras.layers.Dense(d_model)\n",
        "    ])"
      ]
    },
    {
      "cell_type": "code",
      "execution_count": 10,
      "metadata": {
        "id": "97WZiEqD8I9s"
      },
      "outputs": [],
      "source": [
        "class EncoderLayers(tf.keras.layers.Layer):\n",
        "    def __init__(self, d_model, num_heads, dff, rate=0.1):\n",
        "        super(EncoderLayers, self).__init__()\n",
        "        self.mha = MultiHeadAttention(d_model=d_model, num_heads=num_heads)\n",
        "        self.ffn = point_wise_feedforward_network(d_model=d_model, dff=dff)\n",
        "        self.layerNorm1 = tf.keras.layers.LayerNormalization(epsilon=1e-6)\n",
        "        self.layerNorm2 = tf.keras.layers.LayerNormalization(epsilon=1e-6)\n",
        "        self.dropout1 = tf.keras.layers.Dropout(rate=rate)\n",
        "        self.dropout2 = tf.keras.layers.Dropout(rate=rate)\n",
        "\n",
        "    def call(self, x, training):\n",
        "        attn_output = self.mha(x, x, x)\n",
        "        attn_output = self.dropout1(attn_output, training=training)\n",
        "        out1 = self.layerNorm1(x + attn_output)\n",
        "        ffn_output = self.ffn(out1)\n",
        "        ffn_output = self.dropout2(ffn_output, training=training)\n",
        "        out2 = self.layerNorm2(ffn_output + out1)\n",
        "        return out2"
      ]
    },
    {
      "cell_type": "code",
      "execution_count": 11,
      "metadata": {
        "id": "uCFDzLai8I9t"
      },
      "outputs": [],
      "source": [
        "import numpy as np\n",
        "def positional_encoding(position, d_model):\n",
        "    def get_angles(pos, i, d_model):\n",
        "        angle_rates = 1/np.power(10000, (2*i//np.float32(d_model)))\n",
        "        return pos * angle_rates\n",
        "    angle_rads = get_angles(np.arange(position)[:, np.newaxis],\n",
        "                            np.arange(d_model)[np.newaxis, :],\n",
        "                            d_model=d_model)\n",
        "    angle_rads[: ,0::2] = np.sin(angle_rads[: ,0::2])\n",
        "    angle_rads[: ,1::2] = np.cos(angle_rads[: ,1::2])\n",
        "    pos_encoding = angle_rads[np.newaxis, ...]\n",
        "    return tf.cast(pos_encoding, dtype=tf.float32)"
      ]
    },
    {
      "cell_type": "code",
      "execution_count": 12,
      "metadata": {
        "id": "VcwPrW818I9u"
      },
      "outputs": [],
      "source": [
        "class TranformerClassifier(tf.keras.Model):\n",
        "    def __init__(self, num_encoder_layer, d_model, num_heads, dff,\n",
        "                 input_vocab_size, maximum_position_encoding, rate=0.1):\n",
        "        super(TranformerClassifier, self).__init__()\n",
        "        self.embedding = Embedding(input_vocab_size, d_model)\n",
        "        self.pos_encoding = positional_encoding(maximum_position_encoding, d_model=d_model)\n",
        "        self.enc_layers = [EncoderLayers(d_model=d_model, num_heads=num_heads, dff=dff, rate=rate) for _ in range(num_encoder_layer)]\n",
        "        self.drop_out = tf.keras.layers.Dropout(rate=rate)\n",
        "        self.global_average_poolimg = GlobalAveragePooling1D()\n",
        "        self.final_layer = Dense(1, activation=\"sigmoid\")\n",
        "\n",
        "    def call(self, x, training):\n",
        "        seq_len = tf.shape(x)[1]\n",
        "        x = self.embedding(x)\n",
        "        x += self.pos_encoding[:, :seq_len, :]\n",
        "        x = self.drop_out(x, training=training)\n",
        "        for i in range(num_encoder_layer):\n",
        "            x = self.enc_layers[i](x, training=training)\n",
        "        x = self.global_average_poolimg(x)\n",
        "        return self.final_layer(x)"
      ]
    },
    {
      "cell_type": "code",
      "execution_count": 13,
      "metadata": {
        "colab": {
          "base_uri": "https://localhost:8080/",
          "height": 365
        },
        "id": "-kQ-sUF08I9u",
        "outputId": "53fb4f36-f777-4371-a011-b02bc6143a1d"
      },
      "outputs": [
        {
          "name": "stdout",
          "output_type": "stream",
          "text": [
            "Epoch 1/10\n"
          ]
        },
        {
          "name": "stderr",
          "output_type": "stream",
          "text": [
            "WARNING: All log messages before absl::InitializeLog() is called are written to STDERR\n",
            "I0000 00:00:1740552085.797702    5504 service.cc:146] XLA service 0x72e5380094e0 initialized for platform CUDA (this does not guarantee that XLA will be used). Devices:\n",
            "I0000 00:00:1740552085.797805    5504 service.cc:154]   StreamExecutor device (0): Quadro RTX 3000, Compute Capability 7.5\n",
            "2025-02-26 13:41:25.978882: I tensorflow/compiler/mlir/tensorflow/utils/dump_mlir_util.cc:268] disabling MLIR crash reproducer, set env var `MLIR_CRASH_REPRODUCER_DIRECTORY` to enable.\n",
            "2025-02-26 13:41:26.585821: I external/local_xla/xla/stream_executor/cuda/cuda_dnn.cc:531] Loaded cuDNN version 8907\n"
          ]
        },
        {
          "name": "stdout",
          "output_type": "stream",
          "text": [
            "\u001b[1m  2/625\u001b[0m \u001b[37m━━━━━━━━━━━━━━━━━━━━\u001b[0m \u001b[1m1:03\u001b[0m 102ms/step - binary_accuracy: 0.4453 - loss: 1.2516 "
          ]
        },
        {
          "name": "stderr",
          "output_type": "stream",
          "text": [
            "I0000 00:00:1740552095.712947    5504 device_compiler.h:188] Compiled cluster using XLA!  This line is logged at most once for the lifetime of the process.\n"
          ]
        },
        {
          "name": "stdout",
          "output_type": "stream",
          "text": [
            "\u001b[1m625/625\u001b[0m \u001b[32m━━━━━━━━━━━━━━━━━━━━\u001b[0m\u001b[37m\u001b[0m \u001b[1m0s\u001b[0m 97ms/step - binary_accuracy: 0.5187 - loss: 0.7353\n",
            "Epoch 1: val_loss improved from inf to 0.38133, saving model to best_model_weights_1.weights.h5\n",
            "\u001b[1m625/625\u001b[0m \u001b[32m━━━━━━━━━━━━━━━━━━━━\u001b[0m\u001b[37m\u001b[0m \u001b[1m84s\u001b[0m 111ms/step - binary_accuracy: 0.5188 - loss: 0.7351 - val_binary_accuracy: 0.8330 - val_loss: 0.3813\n",
            "Epoch 2/10\n",
            "\u001b[1m625/625\u001b[0m \u001b[32m━━━━━━━━━━━━━━━━━━━━\u001b[0m\u001b[37m\u001b[0m \u001b[1m0s\u001b[0m 97ms/step - binary_accuracy: 0.8586 - loss: 0.3348\n",
            "Epoch 2: val_loss improved from 0.38133 to 0.30863, saving model to best_model_weights_1.weights.h5\n",
            "\u001b[1m625/625\u001b[0m \u001b[32m━━━━━━━━━━━━━━━━━━━━\u001b[0m\u001b[37m\u001b[0m \u001b[1m66s\u001b[0m 105ms/step - binary_accuracy: 0.8586 - loss: 0.3347 - val_binary_accuracy: 0.8792 - val_loss: 0.3086\n",
            "Epoch 3/10\n",
            "\u001b[1m625/625\u001b[0m \u001b[32m━━━━━━━━━━━━━━━━━━━━\u001b[0m\u001b[37m\u001b[0m \u001b[1m0s\u001b[0m 97ms/step - binary_accuracy: 0.9155 - loss: 0.2162\n",
            "Epoch 3: val_loss did not improve from 0.30863\n",
            "\u001b[1m625/625\u001b[0m \u001b[32m━━━━━━━━━━━━━━━━━━━━\u001b[0m\u001b[37m\u001b[0m \u001b[1m66s\u001b[0m 105ms/step - binary_accuracy: 0.9155 - loss: 0.2162 - val_binary_accuracy: 0.8796 - val_loss: 0.3116\n",
            "Epoch 4/10\n",
            "\u001b[1m625/625\u001b[0m \u001b[32m━━━━━━━━━━━━━━━━━━━━\u001b[0m\u001b[37m\u001b[0m \u001b[1m0s\u001b[0m 97ms/step - binary_accuracy: 0.9435 - loss: 0.1561\n",
            "Epoch 4: val_loss did not improve from 0.30863\n",
            "\u001b[1m625/625\u001b[0m \u001b[32m━━━━━━━━━━━━━━━━━━━━\u001b[0m\u001b[37m\u001b[0m \u001b[1m66s\u001b[0m 105ms/step - binary_accuracy: 0.9435 - loss: 0.1561 - val_binary_accuracy: 0.8586 - val_loss: 0.3825\n",
            "Epoch 5/10\n",
            "\u001b[1m625/625\u001b[0m \u001b[32m━━━━━━━━━━━━━━━━━━━━\u001b[0m\u001b[37m\u001b[0m \u001b[1m0s\u001b[0m 97ms/step - binary_accuracy: 0.9612 - loss: 0.1098\n",
            "Epoch 5: val_loss did not improve from 0.30863\n",
            "\u001b[1m625/625\u001b[0m \u001b[32m━━━━━━━━━━━━━━━━━━━━\u001b[0m\u001b[37m\u001b[0m \u001b[1m66s\u001b[0m 105ms/step - binary_accuracy: 0.9612 - loss: 0.1098 - val_binary_accuracy: 0.8716 - val_loss: 0.4078\n",
            "Epoch 6/10\n",
            "\u001b[1m625/625\u001b[0m \u001b[32m━━━━━━━━━━━━━━━━━━━━\u001b[0m\u001b[37m\u001b[0m \u001b[1m0s\u001b[0m 96ms/step - binary_accuracy: 0.9741 - loss: 0.0774\n",
            "Epoch 6: val_loss did not improve from 0.30863\n",
            "\u001b[1m625/625\u001b[0m \u001b[32m━━━━━━━━━━━━━━━━━━━━\u001b[0m\u001b[37m\u001b[0m \u001b[1m65s\u001b[0m 105ms/step - binary_accuracy: 0.9740 - loss: 0.0774 - val_binary_accuracy: 0.8584 - val_loss: 0.4480\n",
            "Epoch 7/10\n",
            "\u001b[1m625/625\u001b[0m \u001b[32m━━━━━━━━━━━━━━━━━━━━\u001b[0m\u001b[37m\u001b[0m \u001b[1m0s\u001b[0m 97ms/step - binary_accuracy: 0.9767 - loss: 0.0671\n",
            "Epoch 7: val_loss did not improve from 0.30863\n",
            "\u001b[1m625/625\u001b[0m \u001b[32m━━━━━━━━━━━━━━━━━━━━\u001b[0m\u001b[37m\u001b[0m \u001b[1m66s\u001b[0m 106ms/step - binary_accuracy: 0.9767 - loss: 0.0671 - val_binary_accuracy: 0.8596 - val_loss: 0.5686\n",
            "Epoch 8/10\n",
            "\u001b[1m625/625\u001b[0m \u001b[32m━━━━━━━━━━━━━━━━━━━━\u001b[0m\u001b[37m\u001b[0m \u001b[1m0s\u001b[0m 97ms/step - binary_accuracy: 0.9808 - loss: 0.0546\n",
            "Epoch 8: val_loss did not improve from 0.30863\n",
            "\u001b[1m625/625\u001b[0m \u001b[32m━━━━━━━━━━━━━━━━━━━━\u001b[0m\u001b[37m\u001b[0m \u001b[1m66s\u001b[0m 105ms/step - binary_accuracy: 0.9808 - loss: 0.0546 - val_binary_accuracy: 0.8550 - val_loss: 0.5332\n",
            "Epoch 9/10\n",
            "\u001b[1m625/625\u001b[0m \u001b[32m━━━━━━━━━━━━━━━━━━━━\u001b[0m\u001b[37m\u001b[0m \u001b[1m0s\u001b[0m 98ms/step - binary_accuracy: 0.9801 - loss: 0.0550\n",
            "Epoch 9: val_loss did not improve from 0.30863\n",
            "\u001b[1m625/625\u001b[0m \u001b[32m━━━━━━━━━━━━━━━━━━━━\u001b[0m\u001b[37m\u001b[0m \u001b[1m66s\u001b[0m 106ms/step - binary_accuracy: 0.9801 - loss: 0.0550 - val_binary_accuracy: 0.8378 - val_loss: 0.6862\n",
            "Epoch 10/10\n",
            "\u001b[1m625/625\u001b[0m \u001b[32m━━━━━━━━━━━━━━━━━━━━\u001b[0m\u001b[37m\u001b[0m \u001b[1m0s\u001b[0m 97ms/step - binary_accuracy: 0.9771 - loss: 0.0648\n",
            "Epoch 10: val_loss did not improve from 0.30863\n",
            "\u001b[1m625/625\u001b[0m \u001b[32m━━━━━━━━━━━━━━━━━━━━\u001b[0m\u001b[37m\u001b[0m \u001b[1m66s\u001b[0m 105ms/step - binary_accuracy: 0.9771 - loss: 0.0648 - val_binary_accuracy: 0.8558 - val_loss: 0.6347\n"
          ]
        },
        {
          "data": {
            "text/plain": [
              "<keras.src.callbacks.history.History at 0x72e5ba1dbaf0>"
            ]
          },
          "execution_count": 13,
          "metadata": {},
          "output_type": "execute_result"
        }
      ],
      "source": [
        "from tensorflow.keras.callbacks import ModelCheckpoint\n",
        "checkpoint = ModelCheckpoint(\n",
        "    filepath=\"best_model_weights_1.weights.h5\",\n",
        "    monitor=\"val_loss\",\n",
        "    save_best_only=True,\n",
        "    save_weights_only=True,\n",
        "    verbose=1\n",
        ")\n",
        "model = TranformerClassifier(num_encoder_layer=num_encoder_layer, d_model=d_model,\n",
        "                             num_heads=num_heads, dff=dff, input_vocab_size=vocab_size,\n",
        "                             maximum_position_encoding=max_len)\n",
        "model.compile(optimizer= Adam(), loss=BinaryCrossentropy(), metrics=[BinaryAccuracy()])\n",
        "model.fit(x_train, y_train, batch_size=batch_size, epochs=num_epochs,\n",
        "          validation_data=(x_val, y_val), callbacks=[checkpoint])"
      ]
    },
    {
      "cell_type": "code",
      "execution_count": 14,
      "metadata": {
        "colab": {
          "base_uri": "https://localhost:8080/"
        },
        "id": "s4fE2MVsBQ7J",
        "outputId": "e927587f-414a-4a33-a378-aff8ea352ce1"
      },
      "outputs": [
        {
          "name": "stdout",
          "output_type": "stream",
          "text": [
            "\u001b[1m782/782\u001b[0m \u001b[32m━━━━━━━━━━━━━━━━━━━━\u001b[0m\u001b[37m\u001b[0m \u001b[1m26s\u001b[0m 33ms/step - binary_accuracy: 0.8738 - loss: 0.3128\n",
            "Best Test Loss: 0.31480932235717773\n",
            "Best Test Accuracy: 0.872160017490387\n"
          ]
        }
      ],
      "source": [
        "model.load_weights(\"best_model_weights.weights.h5\")\n",
        "test_loss, acc_loss = model.evaluate(x_test, y_test)\n",
        "print(f\"Best Test Loss: {test_loss}\")\n",
        "print(f\"Best Test Accuracy: {acc_loss}\")"
      ]
    },
    {
      "cell_type": "code",
      "execution_count": 15,
      "metadata": {
        "colab": {
          "base_uri": "https://localhost:8080/",
          "height": 693
        },
        "id": "5T5ib04IKBrf",
        "outputId": "c2324bb7-c53b-4fbf-8869-b44a829c652d"
      },
      "outputs": [
        {
          "name": "stdout",
          "output_type": "stream",
          "text": [
            "\u001b[1m782/782\u001b[0m \u001b[32m━━━━━━━━━━━━━━━━━━━━\u001b[0m\u001b[37m\u001b[0m \u001b[1m26s\u001b[0m 33ms/step\n"
          ]
        },
        {
          "data": {
            "image/png": "[encoded data removed]",
            "text/plain": [
              "<Figure size 800x800 with 1 Axes>"
            ]
          },
          "metadata": {},
          "output_type": "display_data"
        }
      ],
      "source": [
        "y_pred = model.predict(x_test)\n",
        "y_pred = np.round(y_pred).flatten()\n",
        "true_positive = np.sum((y_test == 1) & (y_pred == 1))\n",
        "true_negative = np.sum((y_test == 0) & (y_pred == 0))\n",
        "false_positive = np.sum((y_test == 0) & (y_pred == 1))\n",
        "false_negative = np.sum((y_test == 1) & (y_pred == 0))\n",
        "labels = ['True Positive', 'True Negative', 'False Positive', 'False Negative']\n",
        "values = [true_positive, true_negative, false_positive, false_negative]\n",
        "colors = ['blue', 'green', 'red', 'orange']\n",
        "plt.figure(figsize=(8, 8))\n",
        "plt.pie(values, labels=labels, autopct='%1.1f%%', colors=colors, startangle=90)\n",
        "plt.title(\"Classification Results\")\n",
        "plt.show()"
      ]
    },
    {
      "cell_type": "code",
      "execution_count": null,
      "metadata": {
        "colab": {
          "base_uri": "https://localhost:8080/"
        },
        "id": "q1eyPTv_QBCy",
        "outputId": "ecc0def7-8ffd-426f-d5fe-9b5adb330d2a"
      },
      "outputs": [
        {
          "name": "stdout",
          "output_type": "stream",
          "text": [
            " * Serving Flask app '__main__'\n",
            " * Debug mode: off\n"
          ]
        },
        {
          "name": "stderr",
          "output_type": "stream",
          "text": [
            "\u001b[31m\u001b[1mWARNING: This is a development server. Do not use it in a production deployment. Use a production WSGI server instead.\u001b[0m\n",
            " * Running on all addresses (0.0.0.0)\n",
            " * Running on http://127.0.0.1:5000\n",
            " * Running on http://192.168.1.10:5000\n",
            "\u001b[33mPress CTRL+C to quit\u001b[0m\n"
          ]
        },
        {
          "name": "stdout",
          "output_type": "stream",
          "text": [
            "\u001b[1m1/1\u001b[0m \u001b[32m━━━━━━━━━━━━━━━━━━━━\u001b[0m\u001b[37m\u001b[0m \u001b[1m1s\u001b[0m 1s/step\n"
          ]
        },
        {
          "name": "stderr",
          "output_type": "stream",
          "text": [
            "127.0.0.1 - - [26/Feb/2025 13:54:16] \"POST /predict HTTP/1.1\" 200 -\n"
          ]
        },
        {
          "name": "stdout",
          "output_type": "stream",
          "text": [
            "\u001b[1m1/1\u001b[0m \u001b[32m━━━━━━━━━━━━━━━━━━━━\u001b[0m\u001b[37m\u001b[0m \u001b[1m0s\u001b[0m 16ms/step\n"
          ]
        },
        {
          "name": "stderr",
          "output_type": "stream",
          "text": [
            "127.0.0.1 - - [26/Feb/2025 13:54:21] \"POST /predict HTTP/1.1\" 200 -\n"
          ]
        },
        {
          "name": "stdout",
          "output_type": "stream",
          "text": [
            "\u001b[1m1/1\u001b[0m \u001b[32m━━━━━━━━━━━━━━━━━━━━\u001b[0m\u001b[37m\u001b[0m \u001b[1m0s\u001b[0m 33ms/step\n"
          ]
        },
        {
          "name": "stderr",
          "output_type": "stream",
          "text": [
            "127.0.0.1 - - [26/Feb/2025 13:55:04] \"POST /predict HTTP/1.1\" 200 -\n"
          ]
        },
        {
          "name": "stdout",
          "output_type": "stream",
          "text": [
            "\u001b[1m1/1\u001b[0m \u001b[32m━━━━━━━━━━━━━━━━━━━━\u001b[0m\u001b[37m\u001b[0m \u001b[1m0s\u001b[0m 31ms/step\n"
          ]
        },
        {
          "name": "stderr",
          "output_type": "stream",
          "text": [
            "127.0.0.1 - - [26/Feb/2025 13:55:34] \"POST /predict HTTP/1.1\" 200 -\n"
          ]
        },
        {
          "name": "stdout",
          "output_type": "stream",
          "text": [
            "\u001b[1m1/1\u001b[0m \u001b[32m━━━━━━━━━━━━━━━━━━━━\u001b[0m\u001b[37m\u001b[0m \u001b[1m0s\u001b[0m 30ms/step\n"
          ]
        },
        {
          "name": "stderr",
          "output_type": "stream",
          "text": [
            "127.0.0.1 - - [26/Feb/2025 13:56:03] \"POST /predict HTTP/1.1\" 200 -\n"
          ]
        },
        {
          "name": "stdout",
          "output_type": "stream",
          "text": [
            "\u001b[1m1/1\u001b[0m \u001b[32m━━━━━━━━━━━━━━━━━━━━\u001b[0m\u001b[37m\u001b[0m \u001b[1m0s\u001b[0m 17ms/step\n"
          ]
        },
        {
          "name": "stderr",
          "output_type": "stream",
          "text": [
            "127.0.0.1 - - [26/Feb/2025 13:56:11] \"POST /predict HTTP/1.1\" 200 -\n"
          ]
        },
        {
          "name": "stdout",
          "output_type": "stream",
          "text": [
            "\u001b[1m1/1\u001b[0m \u001b[32m━━━━━━━━━━━━━━━━━━━━\u001b[0m\u001b[37m\u001b[0m \u001b[1m0s\u001b[0m 35ms/step\n"
          ]
        },
        {
          "name": "stderr",
          "output_type": "stream",
          "text": [
            "127.0.0.1 - - [26/Feb/2025 14:05:01] \"POST /predict HTTP/1.1\" 200 -\n"
          ]
        },
        {
          "name": "stdout",
          "output_type": "stream",
          "text": [
            "\u001b[1m1/1\u001b[0m \u001b[32m━━━━━━━━━━━━━━━━━━━━\u001b[0m\u001b[37m\u001b[0m \u001b[1m0s\u001b[0m 26ms/step\n"
          ]
        },
        {
          "name": "stderr",
          "output_type": "stream",
          "text": [
            "127.0.0.1 - - [26/Feb/2025 14:05:10] \"POST /predict HTTP/1.1\" 200 -\n"
          ]
        },
        {
          "name": "stdout",
          "output_type": "stream",
          "text": [
            "\u001b[1m1/1\u001b[0m \u001b[32m━━━━━━━━━━━━━━━━━━━━\u001b[0m\u001b[37m\u001b[0m \u001b[1m0s\u001b[0m 20ms/step\n"
          ]
        },
        {
          "name": "stderr",
          "output_type": "stream",
          "text": [
            "127.0.0.1 - - [26/Feb/2025 14:05:20] \"POST /predict HTTP/1.1\" 200 -\n"
          ]
        },
        {
          "name": "stdout",
          "output_type": "stream",
          "text": [
            "\u001b[1m1/1\u001b[0m \u001b[32m━━━━━━━━━━━━━━━━━━━━\u001b[0m\u001b[37m\u001b[0m \u001b[1m0s\u001b[0m 27ms/step\n"
          ]
        },
        {
          "name": "stderr",
          "output_type": "stream",
          "text": [
            "127.0.0.1 - - [26/Feb/2025 14:05:29] \"POST /predict HTTP/1.1\" 200 -\n"
          ]
        }
      ],
      "source": [
        "from flask import Flask, request, jsonify\n",
        "import tensorflow as tf\n",
        "import numpy as np\n",
        "import re\n",
        "\n",
        "app = Flask(__name__)\n",
        "\n",
        "# Tải bộ từ điển IMDb\n",
        "word_index = imdb.get_word_index()\n",
        "# Thêm token đặc biệt\n",
        "word_index = {k: (v + 3) for k, v in word_index.items()}\n",
        "word_index[\"<PAD>\"] = 0\n",
        "word_index[\"<START>\"] = 1\n",
        "word_index[\"<UNK>\"] = 2\n",
        "word_index[\"<UNUSED>\"] = 3\n",
        "reverse_word_index = {v: k for k, v in word_index.items()}\n",
        "\n",
        "def clean_text(text):\n",
        "    text = text.lower()\n",
        "    text = re.sub(r\"[^a-z0-9\\s]\", \"\", text)\n",
        "    return text\n",
        "\n",
        "def encode_text(text, max_len=200):\n",
        "    words = text.split()  \n",
        "    encoded = [word_index.get(word, 2) for word in words]  \n",
        "    encoded = encoded[:max_len]  \n",
        "    return pad_sequences([encoded], maxlen=max_len)\n",
        "\n",
        "@app.route('/predict', methods=['POST'])\n",
        "def predict():\n",
        "    data = request.get_json()\n",
        "    if 'text' not in data:\n",
        "        return jsonify({\"error\": \"Missing 'text' parameter\"}), 400\n",
        "    cleaned_text = clean_text(data['text'])\n",
        "    encoded_text = encode_text(cleaned_text)\n",
        "\n",
        "    prediction = model.predict(encoded_text)\n",
        "    predicted_label = int(np.round(prediction).flatten()[0])\n",
        "    result = {\n",
        "        \"text\": data['text'],\n",
        "        \"cleaned_text\": cleaned_text,\n",
        "        \"prediction\": \"positive\" if predicted_label == 1 else \"negative\"\n",
        "    }\n",
        "    return jsonify(result)\n",
        "if __name__ == '__main__':\n",
        "    app.run(host=\"0.0.0.0\", port=5000)"
      ]
    }
  ],
  "metadata": {
    "accelerator": "GPU",
    "colab": {
      "gpuType": "T4",
      "provenance": []
    },
    "kernelspec": {
      "display_name": ".venv",
      "language": "python",
      "name": "python3"
    },
    "language_info": {
      "codemirror_mode": {
        "name": "ipython",
        "version": 3
      },
      "file_extension": ".py",
      "mimetype": "text/x-python",
      "name": "python",
      "nbconvert_exporter": "python",
      "pygments_lexer": "ipython3",
      "version": "3.10.12"
    }
  },
  "nbformat": 4,
  "nbformat_minor": 0
}
